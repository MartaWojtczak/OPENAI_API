{
 "cells": [
  {
   "cell_type": "code",
   "execution_count": 6,
   "id": "a03fbfde",
   "metadata": {
    "scrolled": true
   },
   "outputs": [],
   "source": [
    "import openai"
   ]
  },
  {
   "cell_type": "code",
   "execution_count": 7,
   "id": "2973902f",
   "metadata": {},
   "outputs": [],
   "source": [
    "from IPython.display import Markdown, display"
   ]
  },
  {
   "cell_type": "code",
   "execution_count": 8,
   "id": "5cd02341",
   "metadata": {},
   "outputs": [],
   "source": [
    "from dotenv import dotenv_values"
   ]
  },
  {
   "cell_type": "code",
   "execution_count": 49,
   "id": "badbd9da",
   "metadata": {},
   "outputs": [],
   "source": [
    "import json"
   ]
  },
  {
   "cell_type": "code",
   "execution_count": 9,
   "id": "a8ba60f6",
   "metadata": {},
   "outputs": [],
   "source": [
    "config = dotenv_values(\".env\")"
   ]
  },
  {
   "cell_type": "code",
   "execution_count": 10,
   "id": "0220f5d6",
   "metadata": {},
   "outputs": [],
   "source": [
    "openai.api_key = config[\"API\"]"
   ]
  },
  {
   "cell_type": "code",
   "execution_count": 46,
   "id": "f58e7a55",
   "metadata": {},
   "outputs": [],
   "source": [
    "def display_colors(colors):\n",
    "    display(Markdown(\" \".join(\n",
    "        f'<span style=\"color: {color}\">{chr(9608)*6}</span>'\n",
    "        for color in colors\n",
    "    )))"
   ]
  },
  {
   "cell_type": "code",
   "execution_count": 85,
   "id": "79047e7b",
   "metadata": {},
   "outputs": [],
   "source": [
    "def get_palette(msg):\n",
    "    prompt = f\"\"\"\n",
    "    ####INSTRUCTIONS####\n",
    "    You are a color palette generating assistant that responds to text prompts for color palettes\n",
    "    Your should generate color palettes that fit the theme, mood, or instructions in the prompt.\n",
    "    The palettes should be between 1 and 6 colors, try to choose the best amount.\n",
    "    \n",
    "    Examples:\n",
    "    Q: Convert the following verbal description of a color palette into a list of colors: warm sunset on caribbean\n",
    "    A: [\"#FD5911\", \"#FC9C54\", \"#FD5E53\", \"#4B3D60\", \"#152852\", \"#08183A\"]\n",
    "    \n",
    "    Q: Convert the following verbal description of a color palette into a list of colors: french flag\n",
    "    A: [\"#0050a4\", \"#ffffff\", \" #ef4135\"]\n",
    "    \n",
    "    Q: Convert the following verbal description of a color palette into a list of colors: ING bank polski\n",
    "    A: [\"#ff6200\", \"#000066\"]\n",
    "    \n",
    "    Q: Convert the following verbal description of a color palette into a list of colors: Santander bank polska\n",
    "    A: [\"#EC0000\", \"#FFFFFF\", \"#DEEDF2\", \"#000000\"]\n",
    "    \n",
    "    Desired Format: a JSON array of hexadecimal color codes\n",
    "    \n",
    "    Q: Convert the following verbal description of a color palette into a list of colors: {msg}\n",
    "    A:\n",
    "    \"\"\"\n",
    "    color_palette = openai.Completion.create(\n",
    "    model = 'text-davinci-003'\n",
    "    , prompt = prompt\n",
    "    , max_tokens = 200)\n",
    "    \n",
    "    return json.loads(color_palette[\"choices\"][0]['text'])"
   ]
  },
  {
   "cell_type": "code",
   "execution_count": 95,
   "id": "adaf8a64",
   "metadata": {
    "scrolled": true
   },
   "outputs": [],
   "source": [
    "palette = get_palette('Atlantic ocean')"
   ]
  },
  {
   "cell_type": "code",
   "execution_count": 96,
   "id": "b6784b45",
   "metadata": {
    "scrolled": true
   },
   "outputs": [
    {
     "data": {
      "text/markdown": [
       "<span style=\"color: #0074AB\">██████</span> <span style=\"color: #00ABDB\">██████</span> <span style=\"color: #80CCE6\">██████</span> <span style=\"color: #B7DDEA\">██████</span> <span style=\"color: #EAF8FF\">██████</span> <span style=\"color: #737173\">██████</span>"
      ],
      "text/plain": [
       "<IPython.core.display.Markdown object>"
      ]
     },
     "metadata": {},
     "output_type": "display_data"
    }
   ],
   "source": [
    "display_colors(palette)"
   ]
  }
 ],
 "metadata": {
  "kernelspec": {
   "display_name": "Python 3 (ipykernel)",
   "language": "python",
   "name": "python3"
  },
  "language_info": {
   "codemirror_mode": {
    "name": "ipython",
    "version": 3
   },
   "file_extension": ".py",
   "mimetype": "text/x-python",
   "name": "python",
   "nbconvert_exporter": "python",
   "pygments_lexer": "ipython3",
   "version": "3.9.13"
  }
 },
 "nbformat": 4,
 "nbformat_minor": 5
}
