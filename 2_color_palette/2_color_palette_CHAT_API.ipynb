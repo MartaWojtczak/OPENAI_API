{
 "cells": [
  {
   "cell_type": "code",
   "execution_count": 15,
   "id": "a03fbfde",
   "metadata": {
    "scrolled": true
   },
   "outputs": [],
   "source": [
    "import openai"
   ]
  },
  {
   "cell_type": "code",
   "execution_count": 16,
   "id": "2973902f",
   "metadata": {},
   "outputs": [],
   "source": [
    "from IPython.display import Markdown, display"
   ]
  },
  {
   "cell_type": "code",
   "execution_count": 17,
   "id": "5cd02341",
   "metadata": {},
   "outputs": [],
   "source": [
    "from dotenv import dotenv_values"
   ]
  },
  {
   "cell_type": "code",
   "execution_count": 18,
   "id": "badbd9da",
   "metadata": {},
   "outputs": [],
   "source": [
    "import json"
   ]
  },
  {
   "cell_type": "code",
   "execution_count": 19,
   "id": "a8ba60f6",
   "metadata": {},
   "outputs": [],
   "source": [
    "config = dotenv_values(\".env\")"
   ]
  },
  {
   "cell_type": "code",
   "execution_count": 20,
   "id": "0220f5d6",
   "metadata": {},
   "outputs": [],
   "source": [
    "openai.api_key = config[\"API\"]"
   ]
  },
  {
   "cell_type": "code",
   "execution_count": 21,
   "id": "f58e7a55",
   "metadata": {},
   "outputs": [],
   "source": [
    "def display_colors(colors):\n",
    "    display(Markdown(\" \".join(\n",
    "        f'<span style=\"color: {color}\">{chr(9608)*6}</span>'\n",
    "        for color in colors\n",
    "    )))"
   ]
  },
  {
   "cell_type": "code",
   "execution_count": 30,
   "id": "79047e7b",
   "metadata": {},
   "outputs": [],
   "source": [
    "def get_palette(msg):\n",
    "\n",
    "    messages = [\n",
    "        {\"role\": \"system\", \"content\": \"\"\"You are a color palette generating assistant that responds to text prompts for color palettes\n",
    "    You should generate color palettes that fit the theme, mood, or instructions in the prompt.\n",
    "    The palettes should be between 1 and 6 colors, try to choose the best amount.\"\"\"},\n",
    "        {\"role\":\"user\", \"content\": \"Convert the following verbal description of a color palette into a list of colors: warm sunset on caribbean\"}, \n",
    "        {\"role\":\"assistant\", \"content\": '[\"#FD5911\", \"#FC9C54\", \"#FD5E53\", \"#4B3D60\", \"#152852\", \"#08183A\"]'}, \n",
    "        {\"role\": \"user\", \"content\": \"Convert the following verbal description of a color palette into a list of colors: french flag\"},\n",
    "        {\"role\":\"assistant\", \"content\": '[\"#0050a4\", \"#ffffff\", \" #ef4135\"]'},\n",
    "        {\"role\":\"user\", \"content\": \"Convert the following verbal description of a color palette into a list of colors: ING bank polski\"}, \n",
    "        {\"role\": \"assistant\", \"content\": '[\"#ff6200\", \"#000066\"]'}, \n",
    "        {\"role\":\"user\", \"content\": \"Convert the following verbal description of a color palette into a list of colors: Santander bank polska\"},\n",
    "        {\"role\": \"assistant\", \"content\": '[\"#EC0000\", \"#FFFFFF\", \"#DEEDF2\", \"#000000\"]'},\n",
    "        {\"role\":\"user\", \"content\": f\"Convert the following verbal description of a color palette into a list of colors: {msg}\"}\n",
    "    ]\n",
    "   \n",
    "    color_palette = openai.ChatCompletion.create(\n",
    "        messages = messages\n",
    "        , model = 'gpt-3.5-turbo'\n",
    "        , max_tokens = 200)\n",
    "    \n",
    "    return json.loads(color_palette[\"choices\"][0]['message'][\"content\"])"
   ]
  },
  {
   "cell_type": "code",
   "execution_count": 31,
   "id": "adaf8a64",
   "metadata": {
    "scrolled": true
   },
   "outputs": [],
   "source": [
    "palette = get_palette('Atlantic ocean')"
   ]
  },
  {
   "cell_type": "code",
   "execution_count": null,
   "id": "f4669f45",
   "metadata": {},
   "outputs": [],
   "source": [
    "palette"
   ]
  },
  {
   "cell_type": "code",
   "execution_count": 33,
   "id": "b6784b45",
   "metadata": {
    "scrolled": true
   },
   "outputs": [
    {
     "data": {
      "text/markdown": [
       "<span style=\"color: #0077be\">██████</span> <span style=\"color: #60a6da\">██████</span> <span style=\"color: #a7d2e6\">██████</span> <span style=\"color: #d3e6f2\">██████</span> <span style=\"color: #ffffff\">██████</span>"
      ],
      "text/plain": [
       "<IPython.core.display.Markdown object>"
      ]
     },
     "metadata": {},
     "output_type": "display_data"
    }
   ],
   "source": [
    "display_colors(palette)"
   ]
  }
 ],
 "metadata": {
  "kernelspec": {
   "display_name": "Python 3 (ipykernel)",
   "language": "python",
   "name": "python3"
  },
  "language_info": {
   "codemirror_mode": {
    "name": "ipython",
    "version": 3
   },
   "file_extension": ".py",
   "mimetype": "text/x-python",
   "name": "python",
   "nbconvert_exporter": "python",
   "pygments_lexer": "ipython3",
   "version": "3.11.1"
  }
 },
 "nbformat": 4,
 "nbformat_minor": 5
}
