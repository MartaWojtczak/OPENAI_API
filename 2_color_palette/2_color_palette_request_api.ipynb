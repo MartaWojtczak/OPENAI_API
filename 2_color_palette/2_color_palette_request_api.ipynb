{
 "cells": [
  {
   "cell_type": "code",
   "execution_count": 1,
   "id": "a03fbfde",
   "metadata": {
    "scrolled": true
   },
   "outputs": [],
   "source": [
    "import openai"
   ]
  },
  {
   "cell_type": "code",
   "execution_count": 3,
   "id": "5cd02341",
   "metadata": {},
   "outputs": [],
   "source": [
    "from dotenv import dotenv_values"
   ]
  },
  {
   "cell_type": "code",
   "execution_count": 18,
   "id": "a8ba60f6",
   "metadata": {},
   "outputs": [],
   "source": [
    "config = dotenv_values(\".env\")"
   ]
  },
  {
   "cell_type": "code",
   "execution_count": 19,
   "id": "0220f5d6",
   "metadata": {},
   "outputs": [],
   "source": [
    "openai.api_key = config[\"API\"]"
   ]
  },
  {
   "cell_type": "code",
   "execution_count": 35,
   "id": "19b08798",
   "metadata": {},
   "outputs": [],
   "source": [
    "prompt = \"\"\"\n",
    "####INSTRUCTIONS####\n",
    "You are a color palette generating assistant that responds to text prompts for color palettes\n",
    "Your should generate color palettes that fit the theme, mood, or instructions in the prompt.\n",
    "The palettes should be between 1 and 6 colors, try to choose the best amount.\n",
    "\n",
    "Examples:\n",
    "Q: Convert the following verbal description of a color palette into a list of colors: warm sunset on caribbean\n",
    "A: [\"#FD5911\", \"#FC9C54\", \"#FD5E53\", \"#4B3D60\", \"#152852\", \"#08183A\"]\n",
    "\n",
    "Q: Convert the following verbal description of a color palette into a list of colors: french flag\n",
    "A: [\"#0050a4\", \"#ffffff\", \" #ef4135\"]\n",
    "\n",
    "Desired Format: a JSON array of hexadecimal color codes\n",
    "\n",
    "Q: Convert the following verbal description of a color palette into a list of colors: sunset\n",
    "A:\n",
    "\"\"\""
   ]
  },
  {
   "cell_type": "code",
   "execution_count": 36,
   "id": "b22843c6",
   "metadata": {},
   "outputs": [],
   "source": [
    "color_palette = openai.Completion.create(\n",
    "    model = 'text-davinci-003'\n",
    "    , prompt = prompt\n",
    "    , max_tokens = 200)"
   ]
  },
  {
   "cell_type": "code",
   "execution_count": 37,
   "id": "51e45c19",
   "metadata": {},
   "outputs": [
    {
     "data": {
      "text/plain": [
       "<OpenAIObject text_completion id=cmpl-7Bo7oxszNlFpf3FP32cbq2TSJqzpR at 0x1a4682d6d60> JSON: {\n",
       "  \"choices\": [\n",
       "    {\n",
       "      \"finish_reason\": \"stop\",\n",
       "      \"index\": 0,\n",
       "      \"logprobs\": null,\n",
       "      \"text\": \"[\\\"#FF5A5F\\\", \\\"#F3A783\\\", \\\"#F2D2B2\\\", \\\"#D0DBF2\\\", \\\"#93B6DA\\\", \\\"#588CC0\\\"]\"\n",
       "    }\n",
       "  ],\n",
       "  \"created\": 1683048644,\n",
       "  \"id\": \"cmpl-7Bo7oxszNlFpf3FP32cbq2TSJqzpR\",\n",
       "  \"model\": \"text-davinci-003\",\n",
       "  \"object\": \"text_completion\",\n",
       "  \"usage\": {\n",
       "    \"completion_tokens\": 40,\n",
       "    \"prompt_tokens\": 209,\n",
       "    \"total_tokens\": 249\n",
       "  }\n",
       "}"
      ]
     },
     "execution_count": 37,
     "metadata": {},
     "output_type": "execute_result"
    }
   ],
   "source": [
    "color_palette"
   ]
  },
  {
   "cell_type": "code",
   "execution_count": 38,
   "id": "adaf8a64",
   "metadata": {
    "scrolled": true
   },
   "outputs": [
    {
     "name": "stdout",
     "output_type": "stream",
     "text": [
      "[\"#FF5A5F\", \"#F3A783\", \"#F2D2B2\", \"#D0DBF2\", \"#93B6DA\", \"#588CC0\"]\n"
     ]
    }
   ],
   "source": [
    "print(color_palette[\"choices\"][0]['text'])"
   ]
  }
 ],
 "metadata": {
  "kernelspec": {
   "display_name": "Python 3 (ipykernel)",
   "language": "python",
   "name": "python3"
  },
  "language_info": {
   "codemirror_mode": {
    "name": "ipython",
    "version": 3
   },
   "file_extension": ".py",
   "mimetype": "text/x-python",
   "name": "python",
   "nbconvert_exporter": "python",
   "pygments_lexer": "ipython3",
   "version": "3.9.13"
  }
 },
 "nbformat": 4,
 "nbformat_minor": 5
}
