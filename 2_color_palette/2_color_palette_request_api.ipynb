{
 "cells": [
  {
   "cell_type": "code",
   "execution_count": 1,
   "id": "a03fbfde",
   "metadata": {
    "scrolled": true
   },
   "outputs": [],
   "source": [
    "import openai"
   ]
  },
  {
   "cell_type": "code",
   "execution_count": 3,
   "id": "5cd02341",
   "metadata": {},
   "outputs": [],
   "source": [
    "from dotenv import dotenv_values"
   ]
  },
  {
   "cell_type": "code",
   "execution_count": 18,
   "id": "a8ba60f6",
   "metadata": {},
   "outputs": [],
   "source": [
    "config = dotenv_values(\".env\")"
   ]
  },
  {
   "cell_type": "code",
   "execution_count": 19,
   "id": "0220f5d6",
   "metadata": {},
   "outputs": [],
   "source": [
    "openai.api_key = config[\"API\"]"
   ]
  },
  {
   "cell_type": "code",
   "execution_count": 20,
   "id": "143225eb",
   "metadata": {},
   "outputs": [],
   "source": [
    "prompt = \"\"\"\n",
    "####INSTRUCTIONS####\n",
    "You are a color palette generating assistant that responds to text prompts for color palettes\n",
    "Your should generate color palettes that fit the theme, mood, or instructions in the prompt.\n",
    "The palettes should be between 1 and 6 colors, try to choose the best amount.\n",
    "\n",
    "Desired Format: a JSON array of hexadecimal color codes\n",
    "\n",
    "Q: Convert the following verbal description of a color palette into a list of colors: sunset\n",
    "A:\n",
    "\"\"\""
   ]
  },
  {
   "cell_type": "code",
   "execution_count": 21,
   "id": "b22843c6",
   "metadata": {},
   "outputs": [],
   "source": [
    "color_palette = openai.Completion.create(\n",
    "    model = 'text-davinci-003'\n",
    "    , prompt = prompt\n",
    "    , max_tokens = 200)"
   ]
  },
  {
   "cell_type": "code",
   "execution_count": 22,
   "id": "51e45c19",
   "metadata": {},
   "outputs": [
    {
     "data": {
      "text/plain": [
       "<OpenAIObject text_completion id=cmpl-7BnjtQlPovQonKNQsoR6Xfp219yKK at 0x1a468184ae0> JSON: {\n",
       "  \"choices\": [\n",
       "    {\n",
       "      \"finish_reason\": \"stop\",\n",
       "      \"index\": 0,\n",
       "      \"logprobs\": null,\n",
       "      \"text\": \"\\n[\\n  \\\"#FFAF41\\\",\\n  \\\"#FFE17D\\\",\\n  \\\"#FFC74C\\\",\\n  \\\"#EF9E35\\\",\\n  \\\"#F33F2E\\\",\\n  \\\"#68203C\\\"\\n]\"\n",
       "    }\n",
       "  ],\n",
       "  \"created\": 1683047161,\n",
       "  \"id\": \"cmpl-7BnjtQlPovQonKNQsoR6Xfp219yKK\",\n",
       "  \"model\": \"text-davinci-003\",\n",
       "  \"object\": \"text_completion\",\n",
       "  \"usage\": {\n",
       "    \"completion_tokens\": 51,\n",
       "    \"prompt_tokens\": 102,\n",
       "    \"total_tokens\": 153\n",
       "  }\n",
       "}"
      ]
     },
     "execution_count": 22,
     "metadata": {},
     "output_type": "execute_result"
    }
   ],
   "source": [
    "color_palette"
   ]
  },
  {
   "cell_type": "code",
   "execution_count": 17,
   "id": "adaf8a64",
   "metadata": {
    "scrolled": true
   },
   "outputs": [
    {
     "name": "stdout",
     "output_type": "stream",
     "text": [
      "\n",
      "\n",
      "1. The Godfather (1972)\n",
      "2. The Shawshank Redemption (1994)\n",
      "3. Citizen Kane (1941)\n"
     ]
    }
   ],
   "source": [
    "print(response[\"choices\"][0]['text'])"
   ]
  }
 ],
 "metadata": {
  "kernelspec": {
   "display_name": "Python 3 (ipykernel)",
   "language": "python",
   "name": "python3"
  },
  "language_info": {
   "codemirror_mode": {
    "name": "ipython",
    "version": 3
   },
   "file_extension": ".py",
   "mimetype": "text/x-python",
   "name": "python",
   "nbconvert_exporter": "python",
   "pygments_lexer": "ipython3",
   "version": "3.9.13"
  }
 },
 "nbformat": 4,
 "nbformat_minor": 5
}
