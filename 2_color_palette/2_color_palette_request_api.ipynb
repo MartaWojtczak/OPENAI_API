{
 "cells": [
  {
   "cell_type": "code",
   "execution_count": 6,
   "id": "a03fbfde",
   "metadata": {
    "scrolled": true
   },
   "outputs": [],
   "source": [
    "import openai"
   ]
  },
  {
   "cell_type": "code",
   "execution_count": 7,
   "id": "3f29d3df",
   "metadata": {},
   "outputs": [],
   "source": [
    "from IPython.display import Markdown, display"
   ]
  },
  {
   "cell_type": "code",
   "execution_count": 8,
   "id": "5cd02341",
   "metadata": {},
   "outputs": [],
   "source": [
    "from dotenv import dotenv_values"
   ]
  },
  {
   "cell_type": "code",
   "execution_count": 46,
   "id": "b5c8ac66",
   "metadata": {},
   "outputs": [],
   "source": [
    "def display_colors(colors):\n",
    "    display(Markdown(\" \".join(\n",
    "        f'<span style=\"color: {color}\">{chr(9608)*6}</span>'\n",
    "        for color in colors\n",
    "    )))"
   ]
  },
  {
   "cell_type": "code",
   "execution_count": 9,
   "id": "a8ba60f6",
   "metadata": {},
   "outputs": [],
   "source": [
    "config = dotenv_values(\".env\")"
   ]
  },
  {
   "cell_type": "code",
   "execution_count": 10,
   "id": "0220f5d6",
   "metadata": {},
   "outputs": [],
   "source": [
    "openai.api_key = config[\"API\"]"
   ]
  },
  {
   "cell_type": "code",
   "execution_count": 39,
   "id": "8f467821",
   "metadata": {},
   "outputs": [],
   "source": [
    "prompt = \"\"\"\n",
    "####INSTRUCTIONS####\n",
    "You are a color palette generating assistant that responds to text prompts for color palettes\n",
    "Your should generate color palettes that fit the theme, mood, or instructions in the prompt.\n",
    "The palettes should be between 1 and 6 colors, try to choose the best amount.\n",
    "\n",
    "Examples:\n",
    "Q: Convert the following verbal description of a color palette into a list of colors: warm sunset on caribbean\n",
    "A: [\"#FD5911\", \"#FC9C54\", \"#FD5E53\", \"#4B3D60\", \"#152852\", \"#08183A\"]\n",
    "\n",
    "Q: Convert the following verbal description of a color palette into a list of colors: french flag\n",
    "A: [\"#0050a4\", \"#ffffff\", \" #ef4135\"]\n",
    "\n",
    "Desired Format: a JSON array of hexadecimal color codes\n",
    "\n",
    "Q: Convert the following verbal description of a color palette into a list of colors: sunset\n",
    "A:\n",
    "\"\"\""
   ]
  },
  {
   "cell_type": "code",
   "execution_count": 40,
   "id": "b22843c6",
   "metadata": {},
   "outputs": [],
   "source": [
    "color_palette = openai.Completion.create(\n",
    "    model = 'text-davinci-003'\n",
    "    , prompt = prompt\n",
    "    , max_tokens = 200)"
   ]
  },
  {
   "cell_type": "code",
   "execution_count": 41,
   "id": "51e45c19",
   "metadata": {},
   "outputs": [
    {
     "data": {
      "text/plain": [
       "<OpenAIObject text_completion id=cmpl-7BoNLkFFSFFey5hTi8eAeLsASm50q at 0x1a5c1145630> JSON: {\n",
       "  \"choices\": [\n",
       "    {\n",
       "      \"finish_reason\": \"stop\",\n",
       "      \"index\": 0,\n",
       "      \"logprobs\": null,\n",
       "      \"text\": \"[\\\"#FEC540\\\", \\\"#FEA42A\\\", \\\"#FC6B4B\\\", \\\"#A54C4F\\\", \\\"#744F6C\\\", \\\"#3B4B84\\\"]\"\n",
       "    }\n",
       "  ],\n",
       "  \"created\": 1683049607,\n",
       "  \"id\": \"cmpl-7BoNLkFFSFFey5hTi8eAeLsASm50q\",\n",
       "  \"model\": \"text-davinci-003\",\n",
       "  \"object\": \"text_completion\",\n",
       "  \"usage\": {\n",
       "    \"completion_tokens\": 40,\n",
       "    \"prompt_tokens\": 209,\n",
       "    \"total_tokens\": 249\n",
       "  }\n",
       "}"
      ]
     },
     "execution_count": 41,
     "metadata": {},
     "output_type": "execute_result"
    }
   ],
   "source": [
    "color_palette"
   ]
  },
  {
   "cell_type": "code",
   "execution_count": 42,
   "id": "adaf8a64",
   "metadata": {
    "scrolled": false
   },
   "outputs": [
    {
     "name": "stdout",
     "output_type": "stream",
     "text": [
      "[\"#FEC540\", \"#FEA42A\", \"#FC6B4B\", \"#A54C4F\", \"#744F6C\", \"#3B4B84\"]\n"
     ]
    }
   ],
   "source": [
    "print(color_palette[\"choices\"][0]['text'])"
   ]
  },
  {
   "cell_type": "code",
   "execution_count": 47,
   "id": "df83f4ec",
   "metadata": {},
   "outputs": [
    {
     "data": {
      "text/markdown": [
       "<span style=\"color: #FEC540\">██████</span> <span style=\"color: #FEA42A\">██████</span> <span style=\"color: #FC6B4B\">██████</span> <span style=\"color: #A54C4F\">██████</span> <span style=\"color: #744F6C\">██████</span> <span style=\"color: #3B4B84\">██████</span>"
      ],
      "text/plain": [
       "<IPython.core.display.Markdown object>"
      ]
     },
     "metadata": {},
     "output_type": "display_data"
    }
   ],
   "source": [
    "display_colors([\"#FEC540\", \"#FEA42A\", \"#FC6B4B\", \"#A54C4F\", \"#744F6C\", \"#3B4B84\"])"
   ]
  }
 ],
 "metadata": {
  "kernelspec": {
   "display_name": "Python 3 (ipykernel)",
   "language": "python",
   "name": "python3"
  },
  "language_info": {
   "codemirror_mode": {
    "name": "ipython",
    "version": 3
   },
   "file_extension": ".py",
   "mimetype": "text/x-python",
   "name": "python",
   "nbconvert_exporter": "python",
   "pygments_lexer": "ipython3",
   "version": "3.9.13"
  }
 },
 "nbformat": 4,
 "nbformat_minor": 5
}
