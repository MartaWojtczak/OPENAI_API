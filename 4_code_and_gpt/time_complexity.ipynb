{
 "cells": [
  {
   "cell_type": "code",
   "execution_count": 2,
   "metadata": {},
   "outputs": [],
   "source": [
    "import openai"
   ]
  },
  {
   "cell_type": "code",
   "execution_count": 3,
   "metadata": {},
   "outputs": [],
   "source": [
    "from dotenv import dotenv_values"
   ]
  },
  {
   "cell_type": "code",
   "execution_count": 4,
   "metadata": {},
   "outputs": [],
   "source": [
    "config = dotenv_values(\".env\")"
   ]
  },
  {
   "cell_type": "code",
   "execution_count": 5,
   "metadata": {},
   "outputs": [],
   "source": [
    "openai.api_key = config[\"API\"]"
   ]
  },
  {
   "attachments": {},
   "cell_type": "markdown",
   "metadata": {},
   "source": [
    "#### bubble sort"
   ]
  },
  {
   "cell_type": "code",
   "execution_count": 1,
   "metadata": {},
   "outputs": [],
   "source": [
    "code_to_count_time_1 = \"\"\"\n",
    " def sort(arr):\n",
    "    n = len(arr)\n",
    "    swapped = False\n",
    "    for i in range(n-1):\n",
    "        for j in range(0, n-i-1):\n",
    " \n",
    "            if arr[j] > arr[j + 1]:\n",
    "                swapped = True\n",
    "                arr[j], arr[j + 1] = arr[j + 1], arr[j]\n",
    "         \n",
    "        if not swapped:\n",
    "            return\n",
    " \"\"\""
   ]
  },
  {
   "cell_type": "code",
   "execution_count": 6,
   "metadata": {},
   "outputs": [],
   "source": [
    "messages = [\n",
    "    {\"role\":\"system\", \"content\":\"you are Python assistant and you count time complexity of the algorithm\"}\n",
    "    , {\"role\":\"user\", \"content\": f\"count the time complexity of an alghoritm: {code_to_count_time_1}\"}\n",
    "]"
   ]
  },
  {
   "cell_type": "code",
   "execution_count": 7,
   "metadata": {},
   "outputs": [],
   "source": [
    "response_1 = openai.ChatCompletion.create(\n",
    "                model = \"gpt-3.5-turbo\"\n",
    "                , messages = messages\n",
    "                ) "
   ]
  },
  {
   "cell_type": "code",
   "execution_count": 8,
   "metadata": {
    "slideshow": {
     "slide_type": "slide"
    }
   },
   "outputs": [
    {
     "name": "stdout",
     "output_type": "stream",
     "text": [
      "The time complexity of this algorithm is O($n^2$) because it uses two nested loops to compare each element of the array with every other element in the array to sort them in ascending order. In the worst-case scenario, the algorithm will take n-1 iterations to sort the array, and each iteration will take n-i-1 comparisons, which gives a total time complexity of O($n^2$). However, since the algorithm stops iterating if the array is already sorted, it may take less than n-1 iterations to sort the array, resulting in an improved time complexity in best-case scenarios.\n"
     ]
    }
   ],
   "source": [
    "print(response_1[\"choices\"][0][\"message\"][\"content\"])"
   ]
  },
  {
   "attachments": {},
   "cell_type": "markdown",
   "metadata": {},
   "source": [
    "#### quick sort"
   ]
  },
  {
   "cell_type": "code",
   "execution_count": 10,
   "metadata": {},
   "outputs": [],
   "source": [
    "code_to_count_time_2 = \"\"\"def partition(array, low, high):\n",
    " \n",
    "    pivot = array[high]\n",
    " \n",
    "    i = low - 1\n",
    " \n",
    "    for j in range(low, high):\n",
    "        if array[j] <= pivot:\n",
    "            i = i + 1\n",
    " \n",
    "  \n",
    "            (array[i], array[j]) = (array[j], array[i])\n",
    " \n",
    "\n",
    "    (array[i + 1], array[high]) = (array[high], array[i + 1])\n",
    " \n",
    "   \n",
    "    return i + 1\n",
    " \n",
    " \n",
    "def Sort(array, low, high):\n",
    "    if low < high:\n",
    "        pi = partition(array, low, high)\n",
    "        Sort(array, low, pi - 1)\n",
    "        Sort(array, pi + 1, high)\"\"\""
   ]
  },
  {
   "cell_type": "code",
   "execution_count": 11,
   "metadata": {},
   "outputs": [],
   "source": [
    "messages = [\n",
    "    {\"role\":\"system\", \"content\":\"you are Python assistant and you count time complexity of the algorithm\"}\n",
    "    , {\"role\":\"user\", \"content\": f\"count the time complexity of an alghoritm: {code_to_count_time_2}\"}\n",
    "]"
   ]
  },
  {
   "cell_type": "code",
   "execution_count": 12,
   "metadata": {},
   "outputs": [],
   "source": [
    "response_2 = openai.ChatCompletion.create(\n",
    "                model = \"gpt-3.5-turbo\"\n",
    "                , messages = messages\n",
    "                ) "
   ]
  },
  {
   "cell_type": "code",
   "execution_count": 13,
   "metadata": {},
   "outputs": [
    {
     "name": "stdout",
     "output_type": "stream",
     "text": [
      "This is an implementation of quicksort algorithm. The time complexity of quicksort is O(nlogn) in average case and O(n^2) in worst case when the pivot element is always chosen to be the smallest or largest element. In this implementation, pivot element is always chosen as the last element of the input array. Therefore, the time complexity of this implementation is O(nlogn) in average case and can be O(n^2) in worst case. Overall, the time complexity of the algorithm depends on the input size and the distribution of elements in the input array.\n"
     ]
    }
   ],
   "source": [
    "print(response_2[\"choices\"][0][\"message\"][\"content\"])"
   ]
  }
 ],
 "metadata": {
  "kernelspec": {
   "display_name": "Python 3",
   "language": "python",
   "name": "python3"
  },
  "language_info": {
   "codemirror_mode": {
    "name": "ipython",
    "version": 3
   },
   "file_extension": ".py",
   "mimetype": "text/x-python",
   "name": "python",
   "nbconvert_exporter": "python",
   "pygments_lexer": "ipython3",
   "version": "3.11.1"
  },
  "orig_nbformat": 4
 },
 "nbformat": 4,
 "nbformat_minor": 2
}
