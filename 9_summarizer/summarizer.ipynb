{
 "cells": [
  {
   "cell_type": "code",
   "execution_count": 39,
   "metadata": {},
   "outputs": [],
   "source": [
    "import openai\n",
    "from dotenv import load_dotenv\n",
    "import os\n",
    "import re\n",
    "import requests\n",
    "import tiktoken"
   ]
  },
  {
   "cell_type": "code",
   "execution_count": 3,
   "metadata": {},
   "outputs": [],
   "source": [
    "load_dotenv(\".env\")\n",
    "openai.api_key = os.environ[\"API\"]"
   ]
  },
  {
   "cell_type": "code",
   "execution_count": 40,
   "metadata": {},
   "outputs": [],
   "source": [
    "model = \"gpt-3.5-turbo\""
   ]
  },
  {
   "cell_type": "code",
   "execution_count": 7,
   "metadata": {},
   "outputs": [],
   "source": [
    "#Load the book. From Gutenberg we download \"Great Gatsby\"\n",
    "response = requests.get(\"https://www.gutenberg.org/cache/epub/64317/pg64317.txt\")"
   ]
  },
  {
   "cell_type": "code",
   "execution_count": 13,
   "metadata": {},
   "outputs": [
    {
     "data": {
      "text/plain": [
       "True"
      ]
     },
     "execution_count": 13,
     "metadata": {},
     "output_type": "execute_result"
    }
   ],
   "source": [
    "#did dowloading go well? In py code use assert statement to raise an error\n",
    "response.status_code == 200"
   ]
  },
  {
   "cell_type": "code",
   "execution_count": null,
   "metadata": {},
   "outputs": [],
   "source": [
    "print(response.text)"
   ]
  },
  {
   "cell_type": "code",
   "execution_count": 37,
   "metadata": {},
   "outputs": [
    {
     "name": "stdout",
     "output_type": "stream",
     "text": [
      "[621, 270630, 18432]\n"
     ]
    }
   ],
   "source": [
    "#choose from response the part we need\n",
    "book_complete_text = response.text #take a text from response\n",
    "book_complete_text = book_complete_text.replace(\"\\r\", \"\") #clear from return character\n",
    "split = re.split(r\"\\*\\*\\* .+ \\*\\*\\*\", book_complete_text) #split into 3 parts, where we only want the middle part (the rest is licence and basic info)\n",
    "print([len(s) for s in split])"
   ]
  },
  {
   "cell_type": "code",
   "execution_count": 38,
   "metadata": {},
   "outputs": [],
   "source": [
    "book = split[1] #the actual book"
   ]
  },
  {
   "cell_type": "code",
   "execution_count": 51,
   "metadata": {},
   "outputs": [
    {
     "name": "stdout",
     "output_type": "stream",
     "text": [
      "the price is: 0.13 US dollars per one summary\n"
     ]
    }
   ],
   "source": [
    "#cost estimation in US dollars\n",
    "num_of_tokens = len(tiktoken.encoding_for_model(model).encode(book))\n",
    "price_per_token = 0.002/1000 #dollars, for 22.10.2023\n",
    "cost = num_of_tokens*price_per_token\n",
    "print(f\"the price is: {cost:.2f} US dollars per one summary\")\n"
   ]
  }
 ],
 "metadata": {
  "kernelspec": {
   "display_name": "Python 3",
   "language": "python",
   "name": "python3"
  },
  "language_info": {
   "codemirror_mode": {
    "name": "ipython",
    "version": 3
   },
   "file_extension": ".py",
   "mimetype": "text/x-python",
   "name": "python",
   "nbconvert_exporter": "python",
   "pygments_lexer": "ipython3",
   "version": "3.11.1"
  },
  "orig_nbformat": 4
 },
 "nbformat": 4,
 "nbformat_minor": 2
}
