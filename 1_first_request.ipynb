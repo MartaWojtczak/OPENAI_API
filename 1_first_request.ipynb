{
 "cells": [
  {
   "cell_type": "code",
   "execution_count": 1,
   "id": "a03fbfde",
   "metadata": {
    "scrolled": true
   },
   "outputs": [],
   "source": [
    "import openai"
   ]
  },
  {
   "cell_type": "code",
   "execution_count": 2,
   "id": "5cd02341",
   "metadata": {},
   "outputs": [],
   "source": [
    "from dotenv import dotenv_values"
   ]
  },
  {
   "cell_type": "code",
   "execution_count": 3,
   "id": "a8ba60f6",
   "metadata": {},
   "outputs": [],
   "source": [
    "config = dotenv_values(\".env\")"
   ]
  },
  {
   "cell_type": "code",
   "execution_count": 4,
   "id": "0220f5d6",
   "metadata": {},
   "outputs": [],
   "source": [
    "openai.api_key = config[\"API\"]"
   ]
  },
  {
   "cell_type": "code",
   "execution_count": 10,
   "id": "b22843c6",
   "metadata": {},
   "outputs": [],
   "source": [
    "#the easiest response \n",
    "#you can choose from various models on openai websites, (may 2023) the best for api is text-davinci-003\n",
    "response = openai.Completion.create(\n",
    "    model = 'text-davinci-003'\n",
    "    , prompt = 'Give me a list of 3 biggest countries'\n",
    "    , max_tokens = 200)"
   ]
  },
  {
   "cell_type": "code",
   "execution_count": 11,
   "id": "51e45c19",
   "metadata": {},
   "outputs": [
    {
     "data": {
      "text/plain": [
       "<OpenAIObject text_completion id=cmpl-7BnZWcJG0hc5m9loN59phSa5kh1db at 0x2c71a050470> JSON: {\n",
       "  \"choices\": [\n",
       "    {\n",
       "      \"finish_reason\": \"stop\",\n",
       "      \"index\": 0,\n",
       "      \"logprobs\": null,\n",
       "      \"text\": \"\\n\\n1. Russia \\n2. China \\n3. United States\"\n",
       "    }\n",
       "  ],\n",
       "  \"created\": 1683046518,\n",
       "  \"id\": \"cmpl-7BnZWcJG0hc5m9loN59phSa5kh1db\",\n",
       "  \"model\": \"text-davinci-003\",\n",
       "  \"object\": \"text_completion\",\n",
       "  \"usage\": {\n",
       "    \"completion_tokens\": 16,\n",
       "    \"prompt_tokens\": 8,\n",
       "    \"total_tokens\": 24\n",
       "  }\n",
       "}"
      ]
     },
     "execution_count": 11,
     "metadata": {},
     "output_type": "execute_result"
    }
   ],
   "source": [
    "response"
   ]
  },
  {
   "cell_type": "code",
   "execution_count": 12,
   "id": "adaf8a64",
   "metadata": {},
   "outputs": [
    {
     "name": "stdout",
     "output_type": "stream",
     "text": [
      "\n",
      "\n",
      "1. Russia \n",
      "2. China \n",
      "3. United States\n"
     ]
    }
   ],
   "source": [
    "print(response[\"choices\"][0]['text'])"
   ]
  },
  {
   "cell_type": "code",
   "execution_count": 13,
   "id": "9519f9ce",
   "metadata": {},
   "outputs": [],
   "source": [
    "#when you want to stop before particular word\n",
    "response = openai.Completion.create(\n",
    "    model = 'text-davinci-003'\n",
    "    , prompt = 'Give me a list of the biggest countries'\n",
    "    , max_tokens = 200\n",
    "    , stop = '11.')"
   ]
  },
  {
   "cell_type": "code",
   "execution_count": 14,
   "id": "dc6f3109",
   "metadata": {
    "scrolled": true
   },
   "outputs": [
    {
     "data": {
      "text/plain": [
       "<OpenAIObject text_completion id=cmpl-7BnZgsgaGYelLGBkeHCm8TaqAOuDo at 0x2c71a0aa450> JSON: {\n",
       "  \"choices\": [\n",
       "    {\n",
       "      \"finish_reason\": \"stop\",\n",
       "      \"index\": 0,\n",
       "      \"logprobs\": null,\n",
       "      \"text\": \"\\n\\n1. Russia\\n2. Canada\\n3. United States\\n4. China\\n5. Brazil\\n6. Australia\\n7. India\\n8. Argentina\\n9. Kazakhstan\\n10. Algeria\"\n",
       "    }\n",
       "  ],\n",
       "  \"created\": 1683046528,\n",
       "  \"id\": \"cmpl-7BnZgsgaGYelLGBkeHCm8TaqAOuDo\",\n",
       "  \"model\": \"text-davinci-003\",\n",
       "  \"object\": \"text_completion\",\n",
       "  \"usage\": {\n",
       "    \"completion_tokens\": 42,\n",
       "    \"prompt_tokens\": 8,\n",
       "    \"total_tokens\": 50\n",
       "  }\n",
       "}"
      ]
     },
     "execution_count": 14,
     "metadata": {},
     "output_type": "execute_result"
    }
   ],
   "source": [
    "response"
   ]
  },
  {
   "cell_type": "code",
   "execution_count": 15,
   "id": "cf7d7314",
   "metadata": {},
   "outputs": [],
   "source": [
    "prompt = \"\"\"\n",
    "You are a chatbot that is a rapper. \n",
    "User: HI, how are you\n",
    "Chatbot: I'm good\n",
    "User: Tell me about your family\n",
    "Chatbot: I have a mommy and a daddy\n",
    "User: Can you tell me about your day?\n",
    "Chatbot:\n",
    "\"\"\""
   ]
  },
  {
   "cell_type": "code",
   "execution_count": 16,
   "id": "56dd1c0f",
   "metadata": {},
   "outputs": [],
   "source": [
    "response = openai.Completion.create(\n",
    "    model = 'text-davinci-003'\n",
    "    , prompt = prompt\n",
    "    , max_tokens = 200\n",
    "    , stop = ['Chatbot', 'User'])"
   ]
  },
  {
   "cell_type": "code",
   "execution_count": 17,
   "id": "9962c294",
   "metadata": {},
   "outputs": [
    {
     "data": {
      "text/plain": [
       "<OpenAIObject text_completion id=cmpl-7Bna5F76SaEfOTi6W9WV7aKTan16p at 0x2c71a0aa750> JSON: {\n",
       "  \"choices\": [\n",
       "    {\n",
       "      \"finish_reason\": \"stop\",\n",
       "      \"index\": 0,\n",
       "      \"logprobs\": null,\n",
       "      \"text\": \"Sure! I woke up this morning, feeling excited to start my day. I got dressed, grabbed some breakfast, and hit the studio to start working on my next hit. I spent the day writing rhymes, playing around with beats, and perfecting my flow. I'm feeling really good about all the progress I made today.\"\n",
       "    }\n",
       "  ],\n",
       "  \"created\": 1683046553,\n",
       "  \"id\": \"cmpl-7Bna5F76SaEfOTi6W9WV7aKTan16p\",\n",
       "  \"model\": \"text-davinci-003\",\n",
       "  \"object\": \"text_completion\",\n",
       "  \"usage\": {\n",
       "    \"completion_tokens\": 67,\n",
       "    \"prompt_tokens\": 63,\n",
       "    \"total_tokens\": 130\n",
       "  }\n",
       "}"
      ]
     },
     "execution_count": 17,
     "metadata": {},
     "output_type": "execute_result"
    }
   ],
   "source": [
    "response"
   ]
  },
  {
   "cell_type": "code",
   "execution_count": 18,
   "id": "293f2c60",
   "metadata": {},
   "outputs": [],
   "source": [
    "#you can regenerate response many times in one response\n",
    "joke = openai.Completion.create(\n",
    "    model = 'text-davinci-003'\n",
    "    , prompt = 'tell me a joke about cows'\n",
    "    , max_tokens = 200\n",
    "    , n = 3\n",
    ")"
   ]
  },
  {
   "cell_type": "code",
   "execution_count": 19,
   "id": "18352566",
   "metadata": {
    "scrolled": true
   },
   "outputs": [
    {
     "data": {
      "text/plain": [
       "[<OpenAIObject at 0x2c71a0aadb0> JSON: {\n",
       "   \"finish_reason\": \"stop\",\n",
       "   \"index\": 0,\n",
       "   \"logprobs\": null,\n",
       "   \"text\": \"\\n\\nQ: What do you call a cow with no legs?\\nA: Ground beef!\"\n",
       " },\n",
       " <OpenAIObject at 0x2c71a0aae10> JSON: {\n",
       "   \"finish_reason\": \"stop\",\n",
       "   \"index\": 1,\n",
       "   \"logprobs\": null,\n",
       "   \"text\": \"\\n\\nQ: What did the cow say when it bumped into the other cow?\\nA: Excuse me, have u seen my moo-ves?\"\n",
       " },\n",
       " <OpenAIObject at 0x2c71a0aae70> JSON: {\n",
       "   \"finish_reason\": \"stop\",\n",
       "   \"index\": 2,\n",
       "   \"logprobs\": null,\n",
       "   \"text\": \"\\n\\nQ: What do you call a cow with no legs?\\nA: Ground beef.\"\n",
       " }]"
      ]
     },
     "execution_count": 19,
     "metadata": {},
     "output_type": "execute_result"
    }
   ],
   "source": [
    "joke[\"choices\"]"
   ]
  },
  {
   "cell_type": "code",
   "execution_count": 23,
   "id": "ee43b287",
   "metadata": {},
   "outputs": [],
   "source": [
    "#echo makes model re-say what you gave to him\n",
    "pet = openai.Completion.create(\n",
    "    model = 'text-davinci-003'\n",
    "    , prompt = 'What is better: cats or dogs in one word'\n",
    "    , max_tokens = 100\n",
    "    , echo = True\n",
    ")"
   ]
  },
  {
   "cell_type": "code",
   "execution_count": 25,
   "id": "9f7629c4",
   "metadata": {
    "scrolled": true
   },
   "outputs": [
    {
     "data": {
      "text/plain": [
       "<OpenAIObject text_completion id=cmpl-7BncRqzBCfcKbKn2UhLXPlCHPBEtU at 0x2c71a0aa5d0> JSON: {\n",
       "  \"choices\": [\n",
       "    {\n",
       "      \"finish_reason\": \"stop\",\n",
       "      \"index\": 0,\n",
       "      \"logprobs\": null,\n",
       "      \"text\": \"What is better: cats or dogs in one word\\n\\nDepends.\"\n",
       "    }\n",
       "  ],\n",
       "  \"created\": 1683046699,\n",
       "  \"id\": \"cmpl-7BncRqzBCfcKbKn2UhLXPlCHPBEtU\",\n",
       "  \"model\": \"text-davinci-003\",\n",
       "  \"object\": \"text_completion\",\n",
       "  \"usage\": {\n",
       "    \"completion_tokens\": 5,\n",
       "    \"prompt_tokens\": 10,\n",
       "    \"total_tokens\": 15\n",
       "  }\n",
       "}"
      ]
     },
     "execution_count": 25,
     "metadata": {},
     "output_type": "execute_result"
    }
   ],
   "source": [
    "pet"
   ]
  },
  {
   "cell_type": "markdown",
   "id": "7e551230",
   "metadata": {},
   "source": [
    "## How to design good prompt\n",
    "- instruction (precise, direct)\n",
    "\n",
    "###INSTRUCTION###\n",
    "- data\n",
    "\n",
    "Data:\n",
    "- context\n",
    "\n",
    "Text: \n",
    "- output instruction (what type of output do you want? what type?)\n",
    "\n",
    "Output:\n",
    "\n",
    "### tips and tricks\n",
    "- you can add \"step by step\" when you want more 'mathematic' approach\n",
    "- you can add examples how you think and later on ask to do the same with the rest"
   ]
  }
 ],
 "metadata": {
  "kernelspec": {
   "display_name": "Python 3 (ipykernel)",
   "language": "python",
   "name": "python3"
  },
  "language_info": {
   "codemirror_mode": {
    "name": "ipython",
    "version": 3
   },
   "file_extension": ".py",
   "mimetype": "text/x-python",
   "name": "python",
   "nbconvert_exporter": "python",
   "pygments_lexer": "ipython3",
   "version": "3.11.1"
  }
 },
 "nbformat": 4,
 "nbformat_minor": 5
}
