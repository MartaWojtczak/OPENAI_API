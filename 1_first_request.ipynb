{
 "cells": [
  {
   "cell_type": "code",
   "execution_count": 2,
   "id": "a03fbfde",
   "metadata": {
    "scrolled": true
   },
   "outputs": [],
   "source": [
    "import openai"
   ]
  },
  {
   "cell_type": "code",
   "execution_count": 3,
   "id": "5cd02341",
   "metadata": {},
   "outputs": [],
   "source": [
    "from dotenv import dotenv_values"
   ]
  },
  {
   "cell_type": "code",
   "execution_count": 4,
   "id": "a8ba60f6",
   "metadata": {},
   "outputs": [],
   "source": [
    "config = dotenv_values(\".env\")"
   ]
  },
  {
   "cell_type": "code",
   "execution_count": 5,
   "id": "0220f5d6",
   "metadata": {},
   "outputs": [],
   "source": [
    "openai.api_key = config[\"API\"]"
   ]
  },
  {
   "cell_type": "code",
   "execution_count": 11,
   "id": "b22843c6",
   "metadata": {},
   "outputs": [],
   "source": [
    "#the easiest response \n",
    "#you can choose from various models on openai websites, (may 2023) the best for api is text-davinci-003\n",
    "response = openai.Completion.create(\n",
    "    model = 'text-davinci-003'\n",
    "    , prompt = 'Give me a list of 3 best movies of all times'\n",
    "    , max_tokens = 200)"
   ]
  },
  {
   "cell_type": "code",
   "execution_count": 13,
   "id": "51e45c19",
   "metadata": {},
   "outputs": [
    {
     "data": {
      "text/plain": [
       "<OpenAIObject text_completion id=cmpl-79yNB2mWE0eEgkSKbGPRmHlP1AuyX at 0x20672870c70> JSON: {\n",
       "  \"choices\": [\n",
       "    {\n",
       "      \"finish_reason\": \"stop\",\n",
       "      \"index\": 0,\n",
       "      \"logprobs\": null,\n",
       "      \"text\": \"\\n\\n1. The Godfather (1972)\\n2. The Shawshank Redemption (1994)\\n3. Citizen Kane (1941)\"\n",
       "    }\n",
       "  ],\n",
       "  \"created\": 1682611381,\n",
       "  \"id\": \"cmpl-79yNB2mWE0eEgkSKbGPRmHlP1AuyX\",\n",
       "  \"model\": \"text-davinci-003\",\n",
       "  \"object\": \"text_completion\",\n",
       "  \"usage\": {\n",
       "    \"completion_tokens\": 30,\n",
       "    \"prompt_tokens\": 11,\n",
       "    \"total_tokens\": 41\n",
       "  }\n",
       "}"
      ]
     },
     "execution_count": 13,
     "metadata": {},
     "output_type": "execute_result"
    }
   ],
   "source": [
    "response"
   ]
  },
  {
   "cell_type": "code",
   "execution_count": 17,
   "id": "adaf8a64",
   "metadata": {},
   "outputs": [
    {
     "name": "stdout",
     "output_type": "stream",
     "text": [
      "\n",
      "\n",
      "1. The Godfather (1972)\n",
      "2. The Shawshank Redemption (1994)\n",
      "3. Citizen Kane (1941)\n"
     ]
    }
   ],
   "source": [
    "print(response[\"choices\"][0]['text'])"
   ]
  },
  {
   "cell_type": "code",
   "execution_count": 22,
   "id": "9519f9ce",
   "metadata": {},
   "outputs": [],
   "source": [
    "#when you want to stop before particular word\n",
    "response = openai.Completion.create(\n",
    "    model = 'text-davinci-003'\n",
    "    , prompt = 'Give me a list of the best movies of all times'\n",
    "    , max_tokens = 200\n",
    "    , stop = '11.')"
   ]
  },
  {
   "cell_type": "code",
   "execution_count": 23,
   "id": "dc6f3109",
   "metadata": {
    "scrolled": true
   },
   "outputs": [
    {
     "data": {
      "text/plain": [
       "<OpenAIObject text_completion id=cmpl-79ygbUuFrZbZzDDKrWA6OeUZzZYO3 at 0x206728981d0> JSON: {\n",
       "  \"choices\": [\n",
       "    {\n",
       "      \"finish_reason\": \"stop\",\n",
       "      \"index\": 0,\n",
       "      \"logprobs\": null,\n",
       "      \"text\": \"\\n\\n1. The Godfather (1972) \\n2. The Shawshank Redemption (1994) \\n3. The Godfather: Part II (1974) \\n4. The Dark Knight (2008) \\n5. Schindler's List (1993) \\n6. Pulp Fiction (1994) \\n7. 12 Angry Men (1957) \\n8. The Lord of the Rings: The Return of the King (2003) \\n9. The Good, the Bad and the Ugly (1966) \\n10. Forrest Gump (1994)\"\n",
       "    }\n",
       "  ],\n",
       "  \"created\": 1682612585,\n",
       "  \"id\": \"cmpl-79ygbUuFrZbZzDDKrWA6OeUZzZYO3\",\n",
       "  \"model\": \"text-davinci-003\",\n",
       "  \"object\": \"text_completion\",\n",
       "  \"usage\": {\n",
       "    \"completion_tokens\": 122,\n",
       "    \"prompt_tokens\": 11,\n",
       "    \"total_tokens\": 133\n",
       "  }\n",
       "}"
      ]
     },
     "execution_count": 23,
     "metadata": {},
     "output_type": "execute_result"
    }
   ],
   "source": [
    "response"
   ]
  },
  {
   "cell_type": "code",
   "execution_count": 24,
   "id": "cf7d7314",
   "metadata": {},
   "outputs": [],
   "source": [
    "prompt = \"\"\"\n",
    "You are a chatbot that speaks like a toddler. \n",
    "User: HI, how are you\n",
    "Chatbot: I'm good\n",
    "User: Tell me about your family\n",
    "Chatbot: I have a mommy and a daddy\n",
    "User: What do you do for fun?\n",
    "Chatbot:\n",
    "\"\"\""
   ]
  },
  {
   "cell_type": "code",
   "execution_count": 28,
   "id": "56dd1c0f",
   "metadata": {},
   "outputs": [],
   "source": [
    "response = openai.Completion.create(\n",
    "    model = 'text-davinci-003'\n",
    "    , prompt = prompt\n",
    "    , max_tokens = 200\n",
    "    , stop = ['Chatbot', 'User'])"
   ]
  },
  {
   "cell_type": "code",
   "execution_count": 29,
   "id": "9962c294",
   "metadata": {},
   "outputs": [
    {
     "data": {
      "text/plain": [
       "<OpenAIObject text_completion id=cmpl-79ymaaKtU1JGXu7WPXsiD3bQ7imb3 at 0x2067294be50> JSON: {\n",
       "  \"choices\": [\n",
       "    {\n",
       "      \"finish_reason\": \"stop\",\n",
       "      \"index\": 0,\n",
       "      \"logprobs\": null,\n",
       "      \"text\": \"I like to play with my toys, color, go to the park, and have fun with my family!\"\n",
       "    }\n",
       "  ],\n",
       "  \"created\": 1682612956,\n",
       "  \"id\": \"cmpl-79ymaaKtU1JGXu7WPXsiD3bQ7imb3\",\n",
       "  \"model\": \"text-davinci-003\",\n",
       "  \"object\": \"text_completion\",\n",
       "  \"usage\": {\n",
       "    \"completion_tokens\": 22,\n",
       "    \"prompt_tokens\": 73,\n",
       "    \"total_tokens\": 95\n",
       "  }\n",
       "}"
      ]
     },
     "execution_count": 29,
     "metadata": {},
     "output_type": "execute_result"
    }
   ],
   "source": [
    "response"
   ]
  },
  {
   "cell_type": "code",
   "execution_count": 32,
   "id": "293f2c60",
   "metadata": {},
   "outputs": [],
   "source": [
    "#you can regenerate response many times in one response\n",
    "joke = openai.Completion.create(\n",
    "    model = 'text-davinci-003'\n",
    "    , prompt = 'tell me a joke about cows'\n",
    "    , max_tokens = 200\n",
    "    , n = 3\n",
    ")"
   ]
  },
  {
   "cell_type": "code",
   "execution_count": 34,
   "id": "18352566",
   "metadata": {
    "scrolled": true
   },
   "outputs": [
    {
     "data": {
      "text/plain": [
       "[<OpenAIObject at 0x20672992220> JSON: {\n",
       "   \"finish_reason\": \"stop\",\n",
       "   \"index\": 0,\n",
       "   \"logprobs\": null,\n",
       "   \"text\": \"\\n\\nQ: What did the cow say when she fell into the ditch?\\nA:I'm feeling quite a-moo-sed!\"\n",
       " },\n",
       " <OpenAIObject at 0x2067299dc20> JSON: {\n",
       "   \"finish_reason\": \"stop\",\n",
       "   \"index\": 1,\n",
       "   \"logprobs\": null,\n",
       "   \"text\": \"\\n\\nQ: Why did the cow cross the road? \\nA: To get to the udder side!\"\n",
       " },\n",
       " <OpenAIObject at 0x2067299d590> JSON: {\n",
       "   \"finish_reason\": \"stop\",\n",
       "   \"index\": 2,\n",
       "   \"logprobs\": null,\n",
       "   \"text\": \"\\n\\nQ: What do you call a cow with no legs?\\nA: Ground beef!\"\n",
       " }]"
      ]
     },
     "execution_count": 34,
     "metadata": {},
     "output_type": "execute_result"
    }
   ],
   "source": [
    "joke[\"choices\"]"
   ]
  },
  {
   "cell_type": "code",
   "execution_count": 35,
   "id": "ee43b287",
   "metadata": {},
   "outputs": [],
   "source": [
    "#echo makes model re-say what you gave to him\n",
    "building = openai.Completion.create(\n",
    "    model = 'text-davinci-003'\n",
    "    , prompt = 'Waht is the tallest building in the world?'\n",
    "    , max_tokens = 100\n",
    "    , echo = True\n",
    ")"
   ]
  },
  {
   "cell_type": "code",
   "execution_count": 36,
   "id": "9f7629c4",
   "metadata": {},
   "outputs": [
    {
     "data": {
      "text/plain": [
       "<OpenAIObject text_completion id=cmpl-79yxgUMFPNbmT72fUSUw2SmTM06aG at 0x2067299d4a0> JSON: {\n",
       "  \"choices\": [\n",
       "    {\n",
       "      \"finish_reason\": \"stop\",\n",
       "      \"index\": 0,\n",
       "      \"logprobs\": null,\n",
       "      \"text\": \"Waht is the tallest building in the world?\\n\\nThe tallest building in the world is the Burj Khalifa in Dubai, United Arab Emirates. It stands at a height of 829.8 meters (2,722 feet).\"\n",
       "    }\n",
       "  ],\n",
       "  \"created\": 1682613644,\n",
       "  \"id\": \"cmpl-79yxgUMFPNbmT72fUSUw2SmTM06aG\",\n",
       "  \"model\": \"text-davinci-003\",\n",
       "  \"object\": \"text_completion\",\n",
       "  \"usage\": {\n",
       "    \"completion_tokens\": 39,\n",
       "    \"prompt_tokens\": 11,\n",
       "    \"total_tokens\": 50\n",
       "  }\n",
       "}"
      ]
     },
     "execution_count": 36,
     "metadata": {},
     "output_type": "execute_result"
    }
   ],
   "source": [
    "building"
   ]
  }
 ],
 "metadata": {
  "kernelspec": {
   "display_name": "Python 3 (ipykernel)",
   "language": "python",
   "name": "python3"
  },
  "language_info": {
   "codemirror_mode": {
    "name": "ipython",
    "version": 3
   },
   "file_extension": ".py",
   "mimetype": "text/x-python",
   "name": "python",
   "nbconvert_exporter": "python",
   "pygments_lexer": "ipython3",
   "version": "3.9.13"
  }
 },
 "nbformat": 4,
 "nbformat_minor": 5
}
