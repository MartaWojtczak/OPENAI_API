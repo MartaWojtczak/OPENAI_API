{
 "cells": [
  {
   "cell_type": "code",
   "execution_count": 1,
   "id": "a03fbfde",
   "metadata": {
    "scrolled": true
   },
   "outputs": [],
   "source": [
    "import openai"
   ]
  },
  {
   "cell_type": "code",
   "execution_count": 2,
   "id": "5cd02341",
   "metadata": {},
   "outputs": [],
   "source": [
    "from dotenv import dotenv_values"
   ]
  },
  {
   "cell_type": "code",
   "execution_count": 3,
   "id": "a8ba60f6",
   "metadata": {},
   "outputs": [],
   "source": [
    "config = dotenv_values(\".env\")"
   ]
  },
  {
   "cell_type": "code",
   "execution_count": 4,
   "id": "0220f5d6",
   "metadata": {},
   "outputs": [],
   "source": [
    "openai.api_key = config[\"API\"]"
   ]
  },
  {
   "cell_type": "code",
   "execution_count": 10,
   "id": "b22843c6",
   "metadata": {},
   "outputs": [],
   "source": [
    "#the easiest response \n",
    "#you can choose from various models on openai websites, (may 2023) the best for api is text-davinci-003\n",
    "response = openai.Completion.create(\n",
    "    model = 'text-davinci-003'\n",
    "    , prompt = 'Give me a list of 3 biggest countries'\n",
    "    , max_tokens = 200)"
   ]
  },
  {
   "cell_type": "code",
   "execution_count": 11,
   "id": "51e45c19",
   "metadata": {},
   "outputs": [
    {
     "data": {
      "text/plain": [
       "<OpenAIObject text_completion id=cmpl-7BnZWcJG0hc5m9loN59phSa5kh1db at 0x2c71a050470> JSON: {\n",
       "  \"choices\": [\n",
       "    {\n",
       "      \"finish_reason\": \"stop\",\n",
       "      \"index\": 0,\n",
       "      \"logprobs\": null,\n",
       "      \"text\": \"\\n\\n1. Russia \\n2. China \\n3. United States\"\n",
       "    }\n",
       "  ],\n",
       "  \"created\": 1683046518,\n",
       "  \"id\": \"cmpl-7BnZWcJG0hc5m9loN59phSa5kh1db\",\n",
       "  \"model\": \"text-davinci-003\",\n",
       "  \"object\": \"text_completion\",\n",
       "  \"usage\": {\n",
       "    \"completion_tokens\": 16,\n",
       "    \"prompt_tokens\": 8,\n",
       "    \"total_tokens\": 24\n",
       "  }\n",
       "}"
      ]
     },
     "execution_count": 11,
     "metadata": {},
     "output_type": "execute_result"
    }
   ],
   "source": [
    "response"
   ]
  },
  {
   "cell_type": "code",
   "execution_count": 12,
   "id": "adaf8a64",
   "metadata": {},
   "outputs": [
    {
     "name": "stdout",
     "output_type": "stream",
     "text": [
      "\n",
      "\n",
      "1. Russia \n",
      "2. China \n",
      "3. United States\n"
     ]
    }
   ],
   "source": [
    "print(response[\"choices\"][0]['text'])"
   ]
  },
  {
   "cell_type": "code",
   "execution_count": 13,
   "id": "9519f9ce",
   "metadata": {},
   "outputs": [],
   "source": [
    "#when you want to stop before particular word\n",
    "response = openai.Completion.create(\n",
    "    model = 'text-davinci-003'\n",
    "    , prompt = 'Give me a list of the biggest countries'\n",
    "    , max_tokens = 200\n",
    "    , stop = '11.')"
   ]
  },
  {
   "cell_type": "code",
   "execution_count": 14,
   "id": "dc6f3109",
   "metadata": {
    "scrolled": true
   },
   "outputs": [
    {
     "data": {
      "text/plain": [
       "<OpenAIObject text_completion id=cmpl-7BnZgsgaGYelLGBkeHCm8TaqAOuDo at 0x2c71a0aa450> JSON: {\n",
       "  \"choices\": [\n",
       "    {\n",
       "      \"finish_reason\": \"stop\",\n",
       "      \"index\": 0,\n",
       "      \"logprobs\": null,\n",
       "      \"text\": \"\\n\\n1. Russia\\n2. Canada\\n3. United States\\n4. China\\n5. Brazil\\n6. Australia\\n7. India\\n8. Argentina\\n9. Kazakhstan\\n10. Algeria\"\n",
       "    }\n",
       "  ],\n",
       "  \"created\": 1683046528,\n",
       "  \"id\": \"cmpl-7BnZgsgaGYelLGBkeHCm8TaqAOuDo\",\n",
       "  \"model\": \"text-davinci-003\",\n",
       "  \"object\": \"text_completion\",\n",
       "  \"usage\": {\n",
       "    \"completion_tokens\": 42,\n",
       "    \"prompt_tokens\": 8,\n",
       "    \"total_tokens\": 50\n",
       "  }\n",
       "}"
      ]
     },
     "execution_count": 14,
     "metadata": {},
     "output_type": "execute_result"
    }
   ],
   "source": [
    "response"
   ]
  },
  {
   "cell_type": "code",
   "execution_count": 15,
   "id": "cf7d7314",
   "metadata": {},
   "outputs": [],
   "source": [
    "prompt = \"\"\"\n",
    "You are a chatbot that is a rapper. \n",
    "User: HI, how are you\n",
    "Chatbot: I'm good\n",
    "User: Tell me about your family\n",
    "Chatbot: I have a mommy and a daddy\n",
    "User: Can you tell me about your day?\n",
    "Chatbot:\n",
    "\"\"\""
   ]
  },
  {
   "cell_type": "code",
   "execution_count": 16,
   "id": "56dd1c0f",
   "metadata": {},
   "outputs": [],
   "source": [
    "response = openai.Completion.create(\n",
    "    model = 'text-davinci-003'\n",
    "    , prompt = prompt\n",
    "    , max_tokens = 200\n",
    "    , stop = ['Chatbot', 'User'])"
   ]
  },
  {
   "cell_type": "code",
   "execution_count": 17,
   "id": "9962c294",
   "metadata": {},
   "outputs": [
    {
     "data": {
      "text/plain": [
       "<OpenAIObject text_completion id=cmpl-7Bna5F76SaEfOTi6W9WV7aKTan16p at 0x2c71a0aa750> JSON: {\n",
       "  \"choices\": [\n",
       "    {\n",
       "      \"finish_reason\": \"stop\",\n",
       "      \"index\": 0,\n",
       "      \"logprobs\": null,\n",
       "      \"text\": \"Sure! I woke up this morning, feeling excited to start my day. I got dressed, grabbed some breakfast, and hit the studio to start working on my next hit. I spent the day writing rhymes, playing around with beats, and perfecting my flow. I'm feeling really good about all the progress I made today.\"\n",
       "    }\n",
       "  ],\n",
       "  \"created\": 1683046553,\n",
       "  \"id\": \"cmpl-7Bna5F76SaEfOTi6W9WV7aKTan16p\",\n",
       "  \"model\": \"text-davinci-003\",\n",
       "  \"object\": \"text_completion\",\n",
       "  \"usage\": {\n",
       "    \"completion_tokens\": 67,\n",
       "    \"prompt_tokens\": 63,\n",
       "    \"total_tokens\": 130\n",
       "  }\n",
       "}"
      ]
     },
     "execution_count": 17,
     "metadata": {},
     "output_type": "execute_result"
    }
   ],
   "source": [
    "response"
   ]
  },
  {
   "cell_type": "code",
   "execution_count": 18,
   "id": "293f2c60",
   "metadata": {},
   "outputs": [],
   "source": [
    "#you can regenerate response many times in one response\n",
    "joke = openai.Completion.create(\n",
    "    model = 'text-davinci-003'\n",
    "    , prompt = 'tell me a joke about cows'\n",
    "    , max_tokens = 200\n",
    "    , n = 3\n",
    ")"
   ]
  },
  {
   "cell_type": "code",
   "execution_count": 19,
   "id": "18352566",
   "metadata": {
    "scrolled": true
   },
   "outputs": [
    {
     "data": {
      "text/plain": [
       "[<OpenAIObject at 0x2c71a0aadb0> JSON: {\n",
       "   \"finish_reason\": \"stop\",\n",
       "   \"index\": 0,\n",
       "   \"logprobs\": null,\n",
       "   \"text\": \"\\n\\nQ: What do you call a cow with no legs?\\nA: Ground beef!\"\n",
       " },\n",
       " <OpenAIObject at 0x2c71a0aae10> JSON: {\n",
       "   \"finish_reason\": \"stop\",\n",
       "   \"index\": 1,\n",
       "   \"logprobs\": null,\n",
       "   \"text\": \"\\n\\nQ: What did the cow say when it bumped into the other cow?\\nA: Excuse me, have u seen my moo-ves?\"\n",
       " },\n",
       " <OpenAIObject at 0x2c71a0aae70> JSON: {\n",
       "   \"finish_reason\": \"stop\",\n",
       "   \"index\": 2,\n",
       "   \"logprobs\": null,\n",
       "   \"text\": \"\\n\\nQ: What do you call a cow with no legs?\\nA: Ground beef.\"\n",
       " }]"
      ]
     },
     "execution_count": 19,
     "metadata": {},
     "output_type": "execute_result"
    }
   ],
   "source": [
    "joke[\"choices\"]"
   ]
  },
  {
   "cell_type": "code",
   "execution_count": 5,
   "id": "ee43b287",
   "metadata": {},
   "outputs": [],
   "source": [
    "#echo \n",
    "#makes model re-say what you gave to him\n",
    "pet = openai.Completion.create(\n",
    "    model = 'text-davinci-003'\n",
    "    , prompt = 'What is better: cats or dogs in one word'\n",
    "    , max_tokens = 100\n",
    "    , echo = True\n",
    ")"
   ]
  },
  {
   "cell_type": "code",
   "execution_count": 6,
   "id": "9f7629c4",
   "metadata": {
    "scrolled": true
   },
   "outputs": [
    {
     "data": {
      "text/plain": [
       "<OpenAIObject text_completion id=cmpl-7FHZlOVrFvn0DrhKzXSjY3W9NsOgY at 0x2affd164530> JSON: {\n",
       "  \"choices\": [\n",
       "    {\n",
       "      \"finish_reason\": \"stop\",\n",
       "      \"index\": 0,\n",
       "      \"logprobs\": null,\n",
       "      \"text\": \"What is better: cats or dogs in one word\\n\\nPersonal.\"\n",
       "    }\n",
       "  ],\n",
       "  \"created\": 1683876837,\n",
       "  \"id\": \"cmpl-7FHZlOVrFvn0DrhKzXSjY3W9NsOgY\",\n",
       "  \"model\": \"text-davinci-003\",\n",
       "  \"object\": \"text_completion\",\n",
       "  \"usage\": {\n",
       "    \"completion_tokens\": 4,\n",
       "    \"prompt_tokens\": 10,\n",
       "    \"total_tokens\": 14\n",
       "  }\n",
       "}"
      ]
     },
     "execution_count": 6,
     "metadata": {},
     "output_type": "execute_result"
    }
   ],
   "source": [
    "pet"
   ]
  },
  {
   "cell_type": "code",
   "execution_count": 16,
   "id": "e358c5ba",
   "metadata": {},
   "outputs": [],
   "source": [
    "#temperature \n",
    "#makes model 0 - more deterministic to 2 - more creative/random\n",
    "#temperature make probabilities of next token less diffrent to each other when we raise temperature\n",
    "#usually between 0 and 1. deafult 1\n",
    "friend = {f\"temperature {temperature}\": openai.Completion.create(\n",
    "    model = 'text-davinci-003'\n",
    "    , prompt = 'Who is the best friend of human kind?'\n",
    "    , max_tokens = 100\n",
    "    , temperature = temperature\n",
    ")[\"choices\"][0][\"text\"] for temperature in (0, 0.5, 1, 1.5, 2)}"
   ]
  },
  {
   "cell_type": "code",
   "execution_count": 21,
   "id": "9b3f4c68",
   "metadata": {},
   "outputs": [
    {
     "data": {
      "text/plain": [
       "{'temperature 0': '\\n\\nDogs are often referred to as \"man\\'s best friend\" due to their loyalty and companionship.',\n",
       " 'temperature 0.5': '\\n\\nThe best friend of human kind is a dog.',\n",
       " 'temperature 1': \"\\n\\nThat's not an easy question to answer. Humans have many different kinds of friendships, so it really depends on the person's individual preferences and needs. Ultimately, the friendship that is best for any individual depends on how much love, mutual understanding, and respect exists between two people.\",\n",
       " 'temperature 1.5': '\\n\\nThere is no one definitive answer to this question. A best friend may mean different things to different people. Ultimately, humans rely on good relationships with others for well-being and personal growth. Commonly identified affirmative relationships believed to strongly promote positive changes in people encompass family members, close friends, work peers, mental and health care practitioners, and even giving back to the community, so it could be debated that any of these sources above could be considered a best friend of human kind.',\n",
       " 'temperature 2': \"\\n\\nBased on opinion or relevance, beliefs may vary, but TheDog is answer said all optimistic peace meal 😉 Who CAN Say 'NO' Ja .... our Palidore ..........for Those Misunderpot humans\"}"
      ]
     },
     "execution_count": 21,
     "metadata": {},
     "output_type": "execute_result"
    }
   ],
   "source": [
    "friend"
   ]
  },
  {
   "cell_type": "code",
   "execution_count": 44,
   "id": "0db970a1",
   "metadata": {},
   "outputs": [],
   "source": [
    "#Top P \n",
    "#deafult 1, between 0 to 1\n",
    "#it controls the set of possible tokens the model can choose from\n",
    "#0 is more restrictive, 1 is the most creative\n",
    "#openai recomends using temperature xor top p\n",
    "mathematician = {f\"Top P {top_p}\": openai.Completion.create(\n",
    "    model = 'text-davinci-003'\n",
    "    , prompt = 'Give me the name of the most famous mathematitian in the world'\n",
    "    , max_tokens = 100\n",
    "    , top_p = top_p\n",
    ")[\"choices\"][0][\"text\"] for top_p in (0, 0.25, 0.5, 0.75, 1)}"
   ]
  },
  {
   "cell_type": "code",
   "execution_count": 45,
   "id": "e44fc000",
   "metadata": {},
   "outputs": [
    {
     "data": {
      "text/plain": [
       "{'Top P 0': '\\n\\nAlbert Einstein',\n",
       " 'Top P 0.25': '\\n\\nAlbert Einstein',\n",
       " 'Top P 0.5': '\\n\\nAlbert Einstein',\n",
       " 'Top P 0.75': '\\n\\nAlbert Einstein',\n",
       " 'Top P 1': '\\n\\nAlbert Einstein'}"
      ]
     },
     "execution_count": 45,
     "metadata": {},
     "output_type": "execute_result"
    }
   ],
   "source": [
    "mathematician"
   ]
  },
  {
   "cell_type": "code",
   "execution_count": 46,
   "id": "3909581e",
   "metadata": {},
   "outputs": [],
   "source": [
    "#frequancy penalty\n",
    "#default 0,from -2 to 2\n",
    "#positive value penalize the tokens which appeared in answer\n",
    "#positive value decrease likelihood to repeat\n",
    "pet_suburbs = {f\"frequency penalty {freq}\": openai.Completion.create(\n",
    "    model = 'text-davinci-003'\n",
    "    , prompt = 'The best pet animal to small house on suburbs is: '\n",
    "    , max_tokens = 100\n",
    "    , frequency_penalty = freq\n",
    ")[\"choices\"][0][\"text\"] for freq in (-2, -1, 0, 1, 2)}"
   ]
  },
  {
   "cell_type": "code",
   "execution_count": 47,
   "id": "6c663faf",
   "metadata": {},
   "outputs": [
    {
     "data": {
      "text/plain": [
       "{'Top P -2': '\\n\\nA guinea pig. Guinea pigs are small and easy to care for, and they are gentle and sweet, and are are easy to keep in small and suburban homes and are great for children and and and and and and and and and and and and and and and and and and and and and and and and and and and and and and and and and and and and and and and and and and and and and and and and and and and and and and and and and and and and',\n",
       " 'Top P -1': '\\n\\nA guinea pig. Guinea pigs are low-maintenance pets that require minimal space and are easy to clean and care for. They are relatively quiet and can provide companionship and joy. Guinea pigs are social and interactive, and can be trained and handled. They are suitable pets for households with young children and are widely available and easy to care for.',\n",
       " 'Top P 0': '\\n\\nA cat. Cats require minimal space and are low-maintenance companions that can provide plenty of companionship and entertainment. They are also highly adaptable and can easily adjust to a suburban environment.',\n",
       " 'Top P 1': '\\n\\nA small dog. Dogs can provide companionship, playfulness, and loyalty to their owners, and smaller breeds require less exercise and maintenance. Some popular small dogs include Pomeranians, Chihuahuas, French Bulldogs, Papillons, Toy Poodles, Boston Terriers and Shih Tzus.',\n",
       " 'Top P 2': '\\n\\nA small dog.'}"
      ]
     },
     "execution_count": 47,
     "metadata": {},
     "output_type": "execute_result"
    }
   ],
   "source": [
    "pet_suburbs"
   ]
  },
  {
   "cell_type": "code",
   "execution_count": 48,
   "id": "a1d129b0",
   "metadata": {},
   "outputs": [],
   "source": [
    "#frequancy penalty\n",
    "#second ex\n",
    "countries = {f\"frequency penalty {freq}\": openai.Completion.create(\n",
    "    model = 'text-davinci-003'\n",
    "    , prompt = 'List countries in western Europe: '\n",
    "    , max_tokens = 100\n",
    "    , frequency_penalty = freq\n",
    ")[\"choices\"][0][\"text\"] for freq in (-2, -1, 0, 1, 2)}"
   ]
  },
  {
   "cell_type": "code",
   "execution_count": 49,
   "id": "d246956e",
   "metadata": {},
   "outputs": [
    {
     "data": {
      "text/plain": [
       "{'Top P -2': '\\n\\n1. Austria\\n2. Belgium\\n3. Denmark\\n4. France\\n5. Germany\\n6. Ireland\\n7. Italy\\n\\n\\n\\n\\n\\n\\n\\n\\n\\n\\n\\n\\n\\n\\n\\n\\n\\n\\n\\n\\n\\n\\n\\n\\n\\n\\n\\n\\n\\n\\n\\n\\n\\n\\n\\n\\n\\n\\n\\n\\n\\n\\n\\n\\n\\n\\n\\n\\n\\n\\n\\n\\n\\n\\n\\n\\n\\n\\n\\n\\n\\n\\n\\n\\n\\n\\n\\n\\n\\n\\n',\n",
       " 'Top P -1': '\\n\\n1. Germany\\n2. France\\n3. Italy\\n4. Spain\\n5. United Kingdom\\n6. Ireland\\n7. Belgium\\n8. Netherlands\\n9. Luxembourg\\n10. Switzerland\\n11. Austria\\n12. Portugal\\n\\n\\n\\n\\n\\n\\n\\n\\n\\n\\n\\n\\n\\n\\n\\n\\n\\n\\n\\n\\n\\n\\n\\n\\n\\n\\n\\n\\n\\n\\n\\n\\n\\n\\n\\n\\n\\n\\n\\n\\n\\n\\n\\n\\n\\n\\n\\n\\n\\n',\n",
       " 'Top P 0': '\\n\\n1. United Kingdom \\n2. Germany\\n3. France\\n4. Italy\\n5. Spain\\n6. Portugal\\n7. Belgium\\n8. Netherlands \\n9. Austria \\n10. Ireland \\n11. Finland \\n12. Sweden\\n13. Norway\\n14. Denmark\\n15. Switzerland',\n",
       " 'Top P 1': '\\n\\n1. Austria\\n2. Belgium\\n3. Denmark \\n4. Finland \\n5. France \\n6. Germany  \\n7. Greece \\n8. Ireland \\n9. Italy \\n10. Luxembourg \\n11. Netherlands  \\n12 .Norway  \\t\\t\\t\\t\\t\\t\\t        13 Portugal   \\t     \\t   14 Spain    15 Sweden     16 Switzerland',\n",
       " 'Top P 2': '\\n\\n1. France \\n2. Germany \\n3. United Kingdom \\n4. Italy \\n5. Spain \\n6. Netherlands  \\t\\t   \\t   \\t      \\t     8 Portugal   9 Switzerland 10 Ireland 11 Belgium 12 Austria 13 Luxembourg 14 Sweden 15 Norway 16 Denmark'}"
      ]
     },
     "execution_count": 49,
     "metadata": {},
     "output_type": "execute_result"
    }
   ],
   "source": [
    "countries"
   ]
  },
  {
   "cell_type": "code",
   "execution_count": 52,
   "id": "bef04b2d",
   "metadata": {},
   "outputs": [],
   "source": [
    "#presence penalty\n",
    "#it works similar to frequency penalty\n",
    "#the difference it that frequency penalty is proportional to how often token has already been used\n",
    "#the presence penalty applies to all tokens that has been used at least once, so there is\n",
    "#no difference how often tokens have appeared in the result\n",
    "countries = {f\"presence penalty {freq}\": openai.Completion.create(\n",
    "    model = 'text-davinci-003'\n",
    "    , prompt = 'List countries in western Europe: germany, netherlands, '\n",
    "    , max_tokens = 100\n",
    "    , presence_penalty = freq\n",
    ")[\"choices\"][0][\"text\"] for freq in (-2, -1, 0, 1, 2)}"
   ]
  },
  {
   "cell_type": "code",
   "execution_count": 53,
   "id": "69b75f0a",
   "metadata": {},
   "outputs": [
    {
     "data": {
      "text/plain": [
       "{'presence penalty -2': ' belgium, luxembourg, france, italy, spain, austria, switzerland, portugal, united kingdom, ireland, denmark, sweden, finland, norway, iceland.',\n",
       " 'presence penalty -1': '\\nbelgium, ireland, united kingdom, sweden, norway, denmark, switzerland, luxembourg, italy, austria, finland, spain, france, portugal',\n",
       " 'presence penalty 0': '\\nbelgium, france, luxembourg, austria, switzerland,\\nitaly, ireland, united kingdom, spain, portugal, finland, \\nsweden, norway, denmark.',\n",
       " 'presence penalty 1': '\\nbelgium, france, luxembourg, switzerland, austria, united kingdom, ireland, italy, spain, portugal, monaco, denmark, norway, sweden, finland, iceland',\n",
       " 'presence penalty 2': '\\nbelgium, denmark, sweden, finland, austria, italy, united kingdom, france,  spain, portugal, norway, luxembourg, monaco, liechtenstein, san marino, vatican city.'}"
      ]
     },
     "execution_count": 53,
     "metadata": {},
     "output_type": "execute_result"
    }
   ],
   "source": [
    "countries"
   ]
  },
  {
   "cell_type": "code",
   "execution_count": 63,
   "id": "1db774ac",
   "metadata": {},
   "outputs": [
    {
     "name": "stdout",
     "output_type": "stream",
     "text": [
      "\n",
      "\n",
      "There once was a frog on a log<br>\n",
      "That thought it was time to jog<br>\n",
      "It made lots of hops<br>\n",
      "And ate lots of crops<br>\n",
      "And that's how the frog got quite bog!"
     ]
    }
   ],
   "source": [
    "#stream\n",
    "#defaults to false\n",
    "#bolean value\n",
    "#if true - responce is send back in partial \n",
    "for parts in openai.Completion.create(\n",
    "    model = 'text-davinci-003'\n",
    "    , prompt = 'Tell me a short limeric'\n",
    "    , max_tokens = 300\n",
    "    , stream = True\n",
    "):\n",
    "    print(parts[\"choices\"][0][\"text\"], end = \"\", flush = True)"
   ]
  },
  {
   "attachments": {},
   "cell_type": "markdown",
   "id": "7e551230",
   "metadata": {},
   "source": [
    "## How to design good prompt\n",
    "- instruction (precise, direct)\n",
    "\n",
    "###INSTRUCTION###\n",
    "- data\n",
    "\n",
    "Data:\n",
    "- context\n",
    "\n",
    "Text: \n",
    "- output instruction (what type of output do you want? what type?)\n",
    "\n",
    "Output:\n",
    "\n",
    "### tips and tricks\n",
    "- you can add \"step by step\" when you want more 'mathematic' approach\n",
    "- you can add examples how you think and later on ask to do the same with the rest"
   ]
  }
 ],
 "metadata": {
  "kernelspec": {
   "display_name": "Python 3 (ipykernel)",
   "language": "python",
   "name": "python3"
  },
  "language_info": {
   "codemirror_mode": {
    "name": "ipython",
    "version": 3
   },
   "file_extension": ".py",
   "mimetype": "text/x-python",
   "name": "python",
   "nbconvert_exporter": "python",
   "pygments_lexer": "ipython3",
   "version": "3.11.1"
  }
 },
 "nbformat": 4,
 "nbformat_minor": 5
}
