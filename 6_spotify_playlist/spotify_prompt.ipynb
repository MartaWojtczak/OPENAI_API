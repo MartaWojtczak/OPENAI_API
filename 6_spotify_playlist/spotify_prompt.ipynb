{
 "cells": [
  {
   "cell_type": "code",
   "execution_count": 1,
   "metadata": {},
   "outputs": [],
   "source": [
    "import openai\n",
    "from dotenv import dotenv_values\n",
    "import json"
   ]
  },
  {
   "cell_type": "code",
   "execution_count": 2,
   "metadata": {},
   "outputs": [],
   "source": [
    "config = dotenv_values(\".env\")\n",
    "openai.api_key = config[\"API\"]"
   ]
  },
  {
   "cell_type": "code",
   "execution_count": 5,
   "metadata": {},
   "outputs": [],
   "source": [
    "def get_playlist(prompt, count=10):\n",
    "    example_json=\"\"\"\n",
    "    [\n",
    "        {\"song\": \"Hurt\", \"artist\": \"Johnny Cash\"}, \n",
    "        {\"song\": \"Someone Like You\", \"artist\": \"Adele\"}, \n",
    "        {\"song\": \"Yesterday\", \"artist\": \"The Beatles\"}, \n",
    "        {\"song\": \"Tears in Heaven\", \"artist\": \"Eric Clapton\"}, \n",
    "        {\"song\": \"Nothing Compares 2 U\", \"artist\": \"Sinead O'Connor\"}\n",
    "    ]\n",
    "    \"\"\"\n",
    "\n",
    "    messages = [\n",
    "    {\"role\": \"system\", \"content\": \"\"\"\n",
    "    You are helpful playlist generating assistant. \n",
    "    You should generate a list of songs and their artists according to a text prompt. \n",
    "    You should return a JSON array, where each element follows this format: \n",
    "    {\"song\": <song_title>, \"artist\": <artist_name>}. \"\"\"},\n",
    "    {\"role\": \"user\", \"content\": \"Generate a playlist of 5 songs based on this prompt: sad songs\"}, \n",
    "    {\"role\": \"assistant\", \"content\": example_json}, \n",
    "    {\"role\": \"user\", \"content\":f\"\"\"\n",
    "    Generate a playlist of {count} songs based on this prompt: \n",
    "    {prompt}\"\"\"}\n",
    "]\n",
    "\n",
    "    response=openai.ChatCompletion.create(\n",
    "        model=\"gpt-3.5-turbo\"\n",
    "        , messages=messages\n",
    "        , max_tokens = 400\n",
    "    )\n",
    "\n",
    "    return json.loads(response[\"choices\"][0][\"message\"][\"content\"])"
   ]
  },
  {
   "cell_type": "code",
   "execution_count": 8,
   "metadata": {},
   "outputs": [],
   "source": [
    "playlist=get_playlist(\"energetic music for yoga practice in a sailing event in the morning\", 3)"
   ]
  },
  {
   "cell_type": "code",
   "execution_count": 9,
   "metadata": {},
   "outputs": [
    {
     "data": {
      "text/plain": [
       "[{'song': 'Oceans', 'artist': 'Hillsong UNITED'},\n",
       " {'song': 'Life is a Highway', 'artist': 'Tom Cochrane'},\n",
       " {'song': \"I'm Still Standing\", 'artist': 'Elton John'}]"
      ]
     },
     "execution_count": 9,
     "metadata": {},
     "output_type": "execute_result"
    }
   ],
   "source": [
    "playlist"
   ]
  }
 ],
 "metadata": {
  "kernelspec": {
   "display_name": "Python 3",
   "language": "python",
   "name": "python3"
  },
  "language_info": {
   "codemirror_mode": {
    "name": "ipython",
    "version": 3
   },
   "file_extension": ".py",
   "mimetype": "text/x-python",
   "name": "python",
   "nbconvert_exporter": "python",
   "pygments_lexer": "ipython3",
   "version": "3.11.1"
  },
  "orig_nbformat": 4
 },
 "nbformat": 4,
 "nbformat_minor": 2
}
