{
 "cells": [
  {
   "cell_type": "code",
   "execution_count": 1,
   "metadata": {},
   "outputs": [],
   "source": [
    "import openai\n",
    "from dotenv import dotenv_values"
   ]
  },
  {
   "cell_type": "code",
   "execution_count": 2,
   "metadata": {},
   "outputs": [],
   "source": [
    "config = dotenv_values(\".env\")\n",
    "openai.api_key = config[\"API\"]"
   ]
  },
  {
   "cell_type": "code",
   "execution_count": 27,
   "metadata": {},
   "outputs": [],
   "source": [
    "example_json=\"\"\"\n",
    "[\n",
    "    {\"song\": \"Hurt\", \"artist\": \"Johnny Cash\"}, \n",
    "    {\"song\": \"Someone Like You\", \"artist\": \"Adele\"}, \n",
    "    {\"song\": \"Yesterday\", \"artist\": \"The Beatles\"}, \n",
    "    {\"song\": \"Tears in Heaven\", \"artist\": \"Eric Clapton\"}, \n",
    "    {\"song\": \"Nothing Compares 2 U\", \"artist\": \"Sinead O'Connor\"}\n",
    "]\n",
    "\"\"\"\n",
    "\n",
    "messages = [\n",
    "    {\"role\": \"system\", \"content\": \"\"\"\n",
    "    You are helpful playlist generating assistant. \n",
    "    You should generate a python list of songs and their artists according to a text prompt. \n",
    "    You should return a JSON array, where each element follows this format: \n",
    "    {\"song\": <song_title>, \"artist\": <artist_name>}. \"\"\"},\n",
    "    {\"role\": \"assistant\", \"content\": example_json}, \n",
    "    {\"role\": \"user\", \"content\":\"\"\"Generate a playlist of songs based on this prompt: \n",
    "    Songs to run sprints\"\"\"}\n",
    "\n",
    "]"
   ]
  },
  {
   "cell_type": "code",
   "execution_count": 28,
   "metadata": {},
   "outputs": [],
   "source": [
    "response=openai.ChatCompletion.create(\n",
    "    model=\"gpt-3.5-turbo\"\n",
    "    , messages=messages\n",
    "    , max_tokens = 400\n",
    ")"
   ]
  },
  {
   "cell_type": "code",
   "execution_count": 29,
   "metadata": {},
   "outputs": [
    {
     "name": "stdout",
     "output_type": "stream",
     "text": [
      "[\n",
      "    {\"song\": \"Eye of the Tiger\", \"artist\": \"Survivor\"}, \n",
      "    {\"song\": \"Can't Hold Us\", \"artist\": \"Macklemore & Ryan Lewis\"}, \n",
      "    {\"song\": \"Lose Yourself\", \"artist\": \"Eminem\"}, \n",
      "    {\"song\": \"Stronger\", \"artist\": \"Kanye West\"}, \n",
      "    {\"song\": \"We Will Rock You\", \"artist\": \"Queen\"}\n",
      "]\n"
     ]
    }
   ],
   "source": [
    "print(response[\"choices\"][0][\"message\"][\"content\"])"
   ]
  }
 ],
 "metadata": {
  "kernelspec": {
   "display_name": "Python 3",
   "language": "python",
   "name": "python3"
  },
  "language_info": {
   "codemirror_mode": {
    "name": "ipython",
    "version": 3
   },
   "file_extension": ".py",
   "mimetype": "text/x-python",
   "name": "python",
   "nbconvert_exporter": "python",
   "pygments_lexer": "ipython3",
   "version": "3.11.1"
  },
  "orig_nbformat": 4
 },
 "nbformat": 4,
 "nbformat_minor": 2
}
